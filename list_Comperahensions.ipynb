{
 "cells": [
  {
   "cell_type": "raw",
   "id": "8bd54e4c",
   "metadata": {},
   "source": [
    "#list comperihension"
   ]
  },
  {
   "cell_type": "markdown",
   "id": "138e54ec",
   "metadata": {},
   "source": [
    "list=[[\"a\",\"b\",\"c\"],[\"d\",\"e\",\"f\"],[\"g\",\"h\"],[\"i\"],\"j\"]"
   ]
  },
  {
   "cell_type": "markdown",
   "id": "b195f425",
   "metadata": {},
   "source": [
    "k=[[m]for ele in list for m in ele]"
   ]
  },
  {
   "cell_type": "markdown",
   "id": "e0444787",
   "metadata": {},
   "source": [
    "k"
   ]
  },
  {
   "cell_type": "code",
   "execution_count": 15,
   "id": "2f29fadf",
   "metadata": {},
   "outputs": [],
   "source": [
    "\n",
    "k=[0,9,8,7,6,5,4,3,2,1]"
   ]
  },
  {
   "cell_type": "code",
   "execution_count": 16,
   "id": "3b807d9c",
   "metadata": {},
   "outputs": [
    {
     "name": "stdout",
     "output_type": "stream",
     "text": [
      "[0, 1, 2, 3, 4, 5, 6, 7, 8, 9]\n",
      "Wall time: 0 ns\n"
     ]
    }
   ],
   "source": [
    "%%time\n",
    "#import time\n",
    "#start=time.time()\n",
    "alpha=True\n",
    "while alpha:\n",
    "    alpha=False\n",
    "    for i in range(len(k)-1):\n",
    "        if k[i]>k[i+1]:\n",
    "            alpha=True\n",
    "            #print(i,k[i],k[i+1])\n",
    "            k[i],k[i+1]=k[i+1],k[i]\n",
    "            #print(i,k[i],k[i+1])\n",
    "#end=time.time()\n",
    "print(k)\n",
    "#print(end-start)\n",
    "\n",
    "#print(\"The time of execution of above program is :\", end-start)"
   ]
  },
  {
   "cell_type": "code",
   "execution_count": 12,
   "id": "5a8c6bff",
   "metadata": {},
   "outputs": [
    {
     "data": {
      "text/plain": [
       "[0, 1, 2, 3, 4, 5, 6, 7, 8, 9]"
      ]
     },
     "execution_count": 12,
     "metadata": {},
     "output_type": "execute_result"
    }
   ],
   "source": [
    "k"
   ]
  },
  {
   "cell_type": "code",
   "execution_count": 47,
   "id": "8ea86383",
   "metadata": {},
   "outputs": [
    {
     "name": "stdout",
     "output_type": "stream",
     "text": [
      "The time of execution of above program is : 0.06950855255126953\n",
      "Wall time: 56.1 ms\n"
     ]
    }
   ],
   "source": [
    "%%time\n",
    "a = 0\n",
    "for i in range(1000000):\n",
    "\tpass\n",
    "print(\"The time of execution of above program is :\", end-start)"
   ]
  },
  {
   "cell_type": "code",
   "execution_count": null,
   "id": "a159c6ad",
   "metadata": {},
   "outputs": [],
   "source": []
  },
  {
   "cell_type": "code",
   "execution_count": null,
   "id": "03375747-bd4f-4bef-b8e5-4ad754e72c35",
   "metadata": {},
   "outputs": [],
   "source": []
  },
  {
   "cell_type": "code",
   "execution_count": null,
   "id": "01438736-3f48-4218-bde5-1ca08298bb10",
   "metadata": {},
   "outputs": [],
   "source": []
  }
 ],
 "metadata": {
  "kernelspec": {
   "display_name": "Python 3 (ipykernel)",
   "language": "python",
   "name": "python3"
  },
  "language_info": {
   "codemirror_mode": {
    "name": "ipython",
    "version": 3
   },
   "file_extension": ".py",
   "mimetype": "text/x-python",
   "name": "python",
   "nbconvert_exporter": "python",
   "pygments_lexer": "ipython3",
   "version": "3.9.7"
  }
 },
 "nbformat": 4,
 "nbformat_minor": 5
}
