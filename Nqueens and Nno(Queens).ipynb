{
 "cells": [
  {
   "cell_type": "raw",
   "id": "95a8d5db-cec2-40b2-b75a-5daf7cd25dfc",
   "metadata": {},
   "source": [
    "###NQueens"
   ]
  },
  {
   "cell_type": "code",
   "execution_count": 14,
   "id": "031a797f-b57e-4d14-a592-7f42378eb144",
   "metadata": {},
   "outputs": [
    {
     "name": "stdout",
     "output_type": "stream",
     "text": [
      "[['.Q..', '...Q', 'Q...', '..Q.'], ['..Q.', 'Q...', '...Q', '.Q..']]\n"
     ]
    }
   ],
   "source": [
    "class Solution:\n",
    "    def solveNQueens(self, n: int) -> lst[lst[2]]:\n",
    "        col = set()\n",
    "        negDiag = set()# (r - c) = c\n",
    "        posDiag = set()# (r + c) = c\n",
    "        \n",
    "        res = []\n",
    "        board = [[\".\"] * n for i in range(n)]\n",
    "        \n",
    "        def backtrack(r):\n",
    "            if r == n:\n",
    "                copy = [\"\".join(row) for row in board ]\n",
    "                res.append(copy)\n",
    "                return\n",
    "             \n",
    "            for c in range(n):\n",
    "                if c in col or (r + c) in posDiag or (r - c) in negDiag:\n",
    "                    continue\n",
    "                \n",
    "                col.add(c)\n",
    "                negDiag.add(r - c)\n",
    "                posDiag.add(r + c)\n",
    "                board[r][c]=\"Q\"\n",
    "                \n",
    "                backtrack(r + 1)\n",
    "                \n",
    "                col.remove(c)\n",
    "                negDiag.remove(r - c)\n",
    "                posDiag.remove(r + c)\n",
    "                board[r][c]=\".\"\n",
    "        backtrack(0)\n",
    "        return res\n",
    "    print(solveNQueens(4,4))"
   ]
  },
  {
   "cell_type": "code",
   "execution_count": 27,
   "id": "ef6d20a0-f3a5-4963-b30a-9f5f037bad31",
   "metadata": {},
   "outputs": [
    {
     "ename": "NameError",
     "evalue": "name 'solveNQueens' is not defined",
     "output_type": "error",
     "traceback": [
      "\u001b[1;31m---------------------------------------------------------------------------\u001b[0m",
      "\u001b[1;31mNameError\u001b[0m                                 Traceback (most recent call last)",
      "\u001b[1;32m~\\AppData\\Local\\Temp/ipykernel_27644/1545715197.py\u001b[0m in \u001b[0;36m<module>\u001b[1;34m\u001b[0m\n\u001b[1;32m----> 1\u001b[1;33m \u001b[0msolveNQueens\u001b[0m\u001b[1;33m(\u001b[0m\u001b[1;36m4\u001b[0m\u001b[1;33m)\u001b[0m\u001b[1;33m\u001b[0m\u001b[1;33m\u001b[0m\u001b[0m\n\u001b[0m",
      "\u001b[1;31mNameError\u001b[0m: name 'solveNQueens' is not defined"
     ]
    }
   ],
   "source": [
    "solveNQueens(4)"
   ]
  },
  {
   "cell_type": "code",
   "execution_count": 38,
   "id": "e99b3eac-3ae1-410d-9501-09066142cae6",
   "metadata": {},
   "outputs": [],
   "source": [
    "n = 8\n",
    "board = [[\".\"] * n for i in range(n)]"
   ]
  },
  {
   "cell_type": "code",
   "execution_count": 6,
   "id": "410e8eab-f36b-4b69-8bcc-8dda15687838",
   "metadata": {},
   "outputs": [],
   "source": [
    "copy = [\"\".join(row) for row in board ]"
   ]
  },
  {
   "cell_type": "code",
   "execution_count": 7,
   "id": "828577bf-4c4a-447a-a8aa-4f0f8feffa0b",
   "metadata": {},
   "outputs": [
    {
     "data": {
      "text/plain": [
       "['....', '....', '....', '....']"
      ]
     },
     "execution_count": 7,
     "metadata": {},
     "output_type": "execute_result"
    }
   ],
   "source": [
    "copy"
   ]
  },
  {
   "cell_type": "code",
   "execution_count": 6,
   "id": "156db9b1-8db6-4d88-bd71-32dce687d57a",
   "metadata": {},
   "outputs": [
    {
     "name": "stdout",
     "output_type": "stream",
     "text": [
      "4\n"
     ]
    }
   ],
   "source": [
    "class Solution:\n",
    "    def totalNQueens(self, n: int) -> int:\n",
    "        col = set()\n",
    "        negDiag = set()# (r - c)\n",
    "        posDiag = set()# (r + c)\n",
    "        \n",
    "        res = 0\n",
    "        \n",
    "        def backtrack(r):\n",
    "            if r == n:\n",
    "                nonlocal res\n",
    "                res +=1\n",
    "                return\n",
    "            \n",
    "            for c in range(n):\n",
    "                if c in col or (r + c) in posDiag or (r - c) in negDiag:\n",
    "                    continue\n",
    "                \n",
    "                col.add(c)\n",
    "                negDiag.add(r - c)\n",
    "                posDiag.add(r + c)\n",
    "                #board[r][c]=\"Q\"\n",
    "                \n",
    "                backtrack(r + 1)\n",
    "                \n",
    "                col.remove(c)\n",
    "                negDiag.remove(r - c)\n",
    "                posDiag.remove(r + c)\n",
    "                #board[r][c]=\".\"\n",
    "        backtrack(0)\n",
    "        return res\n",
    "    print(totalNQueens(4,6))"
   ]
  },
  {
   "cell_type": "code",
   "execution_count": 12,
   "id": "24bf8f54-3d83-4271-9573-8ce91bbd5715",
   "metadata": {},
   "outputs": [],
   "source": [
    "lst=[3,5,6,87,8,653,8]"
   ]
  },
  {
   "cell_type": "code",
   "execution_count": 13,
   "id": "50fe3538-69f2-41bf-9c8e-df66788354aa",
   "metadata": {},
   "outputs": [
    {
     "data": {
      "text/plain": [
       "8"
      ]
     },
     "execution_count": 13,
     "metadata": {},
     "output_type": "execute_result"
    }
   ],
   "source": [
    "lst[lst[2]]"
   ]
  },
  {
   "cell_type": "code",
   "execution_count": 44,
   "id": "c57eb6ff-8d02-49a4-a970-48637d281992",
   "metadata": {},
   "outputs": [],
   "source": [
    "import random"
   ]
  },
  {
   "cell_type": "code",
   "execution_count": 42,
   "id": "b47fbebb-aaf6-4a6f-bfb0-2d903203dc49",
   "metadata": {},
   "outputs": [
    {
     "name": "stdin",
     "output_type": "stream",
     "text": [
      " 4\n",
      " 3\n",
      " 2\n",
      " 1\n",
      " 4\n"
     ]
    },
    {
     "name": "stdout",
     "output_type": "stream",
     "text": [
      "1\n",
      "2\n",
      "3\n",
      "4\n"
     ]
    }
   ],
   "source": [
    "def bubShort(array):\n",
    "    isSorted = False\n",
    "    counter = 0\n",
    "    while not isSorted:\n",
    "        isSorted = True\n",
    "        for i in range(0,len(array) -1 - counter):\n",
    "            if array[i] > array[i+1]:\n",
    "                swap(i , i + 1 , array)\n",
    "                isSorted = False\n",
    "        counter += 1\n",
    "    return array\n",
    "\n",
    "\n",
    "def swap(i, j, array):\n",
    "    array[i],array[j]=array[j],array[i]\n",
    "    \n",
    "    \n",
    "def main():\n",
    "    N=int(input())\n",
    "    array=[None]*N\n",
    "    for j in range(N):\n",
    "        array[j]=int(input())\n",
    "    result = bubShort(array);\n",
    "    for j in range(len(result)):\n",
    "        print(result[j])\n",
    "        \n",
    "        \n",
    "if __name__ == \"__main__\":\n",
    "    main()"
   ]
  },
  {
   "cell_type": "code",
   "execution_count": 35,
   "id": "339aff14-7d5e-4b8b-a682-8e1fda8b2037",
   "metadata": {},
   "outputs": [
    {
     "name": "stdout",
     "output_type": "stream",
     "text": [
      "0\n"
     ]
    },
    {
     "data": {
      "text/plain": [
       "[1, 2, 1]"
      ]
     },
     "execution_count": 35,
     "metadata": {},
     "output_type": "execute_result"
    }
   ],
   "source": [
    "bubShort([1,2,1])"
   ]
  },
  {
   "cell_type": "code",
   "execution_count": 29,
   "id": "32113316-9b4c-4001-bbe5-00b62d3bdd15",
   "metadata": {},
   "outputs": [
    {
     "data": {
      "text/plain": [
       "[2, 4, 45]"
      ]
     },
     "execution_count": 29,
     "metadata": {},
     "output_type": "execute_result"
    }
   ],
   "source": [
    "k.sort()\n",
    "k"
   ]
  },
  {
   "cell_type": "code",
   "execution_count": 8,
   "id": "6e3c9844-28bc-4574-ac62-39166dcea9dc",
   "metadata": {},
   "outputs": [
    {
     "name": "stdout",
     "output_type": "stream",
     "text": [
      "0\n",
      "1\n",
      "2\n",
      "3\n"
     ]
    }
   ],
   "source": [
    "for j in range(len(test)):\n",
    "    print(j)"
   ]
  },
  {
   "cell_type": "code",
   "execution_count": null,
   "id": "f0e713f6-8a6f-4838-9366-04eb163070bc",
   "metadata": {},
   "outputs": [],
   "source": []
  }
 ],
 "metadata": {
  "kernelspec": {
   "display_name": "Python 3 (ipykernel)",
   "language": "python",
   "name": "python3"
  },
  "language_info": {
   "codemirror_mode": {
    "name": "ipython",
    "version": 3
   },
   "file_extension": ".py",
   "mimetype": "text/x-python",
   "name": "python",
   "nbconvert_exporter": "python",
   "pygments_lexer": "ipython3",
   "version": "3.9.7"
  }
 },
 "nbformat": 4,
 "nbformat_minor": 5
}
