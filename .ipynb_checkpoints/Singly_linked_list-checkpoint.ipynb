{
 "cells": [
  {
   "cell_type": "code",
   "execution_count": null,
   "id": "2b7f65f1-9b8a-4640-945c-d9ce80719666",
   "metadata": {},
   "outputs": [],
   "source": [
    "###linked Lst \n",
    "#it is linear data structre mad eup of chain of nodes with each node contains a data field\n",
    "    #and a link to the next node or reference\n",
    "    # for single linked ;list it only contains the next node link or reference \n",
    "    #for dounbble linked list it contains the previous and nect node link or reference\n",
    "#TERMS\n",
    "    #Head:- the first node of the linked list is known as the headof the linked list \n",
    "        #head node is always the starting point of the linked list\n",
    "        #as it stores the link of the second node and second node will store the data of the 3rd node \n",
    "            #if the head node is not assined its hard to get through the list\n",
    "    #Tail:- The last node is called as the tail node as it is the last node of the list \n",
    "        #it contains only data of the node because there is no node after the tail node to stare the link to te next node\n",
    "\n",
    "#Linked is a dynamic data structure and the linked list size is variableaccourding the flow of the program or inputs to the list\n",
    "    #the size of the linked list is not fixed you can modify the size while performing the operation\n",
    "\n",
    "#Each node adress is stored in a previous node randomly n memory so we dont need a contiguous memory\n",
    "\n",
    "\n",
    "#Advantag eof linked list\n",
    "    #it is a dynamic data structure \n",
    "        #so it uses dynamic memory location\n",
    "            #while creating linked list no need to mention the size of the linked list\n",
    "    #elemnent insertion and deletion easily from any possion \n",
    "        #so insertion and deletion is easir in the linked list\n",
    "            #no need to shift the elements from their position itcan be easily done by changing the positionof the next element\n",
    "    #We can use linked list to implement the Stack,Queue, and Graph data structureS\n",
    "    #Linked list are used to represent polynomials\n",
    "\n",
    "    #EX in real life the linked lists are used in \n",
    "        #WEB browserto goto previous and next pages\n",
    "        #and in imagfe viewer and musoic player\n",
    "#Disadvantages of Linked lists\n",
    "    #in linked list each node stores the data and link prt in the node because of that it needs the extra memory\n",
    "    #No elements can be acessed randomely ithas to acess each node \n",
    "        #because of each node knows only next node"
   ]
  },
  {
   "cell_type": "code",
   "execution_count": null,
   "id": "64f4cad2-ee36-43bf-a9b7-89520ab25186",
   "metadata": {},
   "outputs": [],
   "source": [
    "#Type of linked lists\n",
    "#1. Singly linked list\n",
    "    #if the node contains only one reference or link it called as the singly linked list it is a chain of node\n",
    "        # each node is contains next node link\n",
    "        #last node contain reference as null\n",
    "#2. Doubly Linked list\n",
    "    #if the node contains two references or links its calleed as the doubly linked list. \n",
    "    #each link is for specifing the previous and next node adress or links,references\n",
    "        \n",
    "#3. Circular linked list\n",
    "    #if the doubly linked list with tail node contains tail of the head node will knows as the circular linked list"
   ]
  },
  {
   "cell_type": "code",
   "execution_count": null,
   "id": "eed6e67f-0a12-406f-b6a4-d97563171a10",
   "metadata": {},
   "outputs": [],
   "source": [
    "#Single linked list\n",
    "    #operations on singly likned list\n",
    "        #Addng or inserting the node\n",
    "            #to add or insert the element we need to break the link of the linked list chain \n",
    "                #we can add/remove the elemnt in the beginning of the linked list or endof the linked list \n",
    "                #and also we can add the element at the middle of the linked list\n",
    "        #Removing or deleting the node\n",
    "        #Traversal operation\n",
    "        \n",
    "    #Steps to inset node in headof the linked list\n",
    "        #create a new node with data and reference is Null \n",
    "        #point the reference or link tothe first node and \n",
    "        #change the reference or link of the head node oto point the newly created node\n",
    "     #Steps to inset node in tail of the linked list \n",
    "        #create a node with a data and reference as Null\n",
    "        #go to the last node by check each node reference when reference is null \n",
    "        #add the reference of the new node tothe last node and the last node will point ot the new node\n",
    "            #and new node is last node\n",
    "     #Steps to inset node in Between the nodes of linked list \n",
    "        #create a node with a data and reference as Null\n",
    "        #(traverse)go to the position of the node that we need to insert the node\n",
    "        #change the reference link in that previous node and add the link of the newly created node in the previous node \n",
    "            #and change nwly created node value with next node\n",
    "    #Steps to Delete node in head(First) of the linked list\n",
    "        #change the link or reference head of the node ot the second node to point to the next or second node\n",
    "    #Steps to Delete node in tail(Last) the linked list\n",
    "        #go to the previous node of the last node and change reference or link to Null\n",
    "     #Steps to Delete node in Between the nodes of linked list \n",
    "        #go to the position before the delete node of the link in the linked list\n",
    "        #change the link of the previous node and point to the link of Node after the delete node\n",
    "        \n",
    "    #Travesing the linked list\n",
    "        #traversing is the process of going through each node and acessoing the data of the each node\n",
    "        #process\n",
    "            #go to head node and check the reference(link) is Nullor not \n",
    "                #if the value is not Null goto the next node and repeat step 1 until we got Null \n",
    "                #once we got null thats the end of the linked list"
   ]
  },
  {
   "cell_type": "code",
   "execution_count": 527,
   "id": "3e6465a8-1d7c-4e87-be12-92344ff7e817",
   "metadata": {},
   "outputs": [],
   "source": [
    "class Node:\n",
    "    def __init__(self,data):#--Creates a new node\n",
    "        self.data = data\n",
    "        self.ref = None\n",
    "class LinkedList:\n",
    "    def __init__(self):\n",
    "        self.head = None\n",
    "        \n",
    "    def print_LL(self):#-- printthe whole list \n",
    "        if self.head is None:\n",
    "            print(\"Linked list is empty\")\n",
    "        else:\n",
    "            n = self.head\n",
    "            while n is not None:\n",
    "                print(n.data,\"--> \",end=\"\")\n",
    "                n = n.ref\n",
    "                \n",
    "    def add_begin(self,data):#--Insert a node At the begining of the LinkedList\n",
    "        new_node=Node(data)\n",
    "        new_node.ref=self.head\n",
    "        self.head=new_node\n",
    "        \n",
    "    def add_end(self,data):#--Insert a node At the end of the LinkedList\n",
    "        new_node=Node(data)\n",
    "        if self.head is None:\n",
    "            self.head=new_node\n",
    "        else:\n",
    "            n=self.head\n",
    "            while n.ref is not None:\n",
    "                n=n.ref\n",
    "            n.ref=new_node\n",
    "            \n",
    "    def add_afterN(self,data,x):#--Insert a node After tha data of the Specified node\n",
    "        n=self.head\n",
    "        while n is not None:\n",
    "            if x==n.data:\n",
    "                break\n",
    "            n=n.ref\n",
    "        if n is None:\n",
    "            print(\"Node is not present in the list\")\n",
    "        else:\n",
    "            new_node=Node(data)\n",
    "            new_node.ref=n.ref\n",
    "            n.ref=new_node\n",
    "            \n",
    "    def add_beforeN(self,data,x):#--Insert a node Before tha data of the Specified node\n",
    "        n=self.head\n",
    "        while n is not None:\n",
    "            #if x==n.ref.data:\n",
    "            if x==n.data:\n",
    "                break\n",
    "            prev1=n\n",
    "            n=n.ref\n",
    "        if n is None:\n",
    "            print(\"Node  not present in the list\")\n",
    "        else:\n",
    "            new_node=Node(data)\n",
    "            new_node.ref=prev1.ref\n",
    "            prev1.ref=new_node\n",
    "            \n",
    "    def insert_empty(self,data):#--Instert a node when the linked list is empty\n",
    "        if self.head is None:\n",
    "            new_node=Node(data)\n",
    "            self.head=new_node\n",
    "        else:\n",
    "            print(\"linked list is not empty\")\n",
    "            \n",
    "    def del_1stN(self):#--Delete first node of the linked list\n",
    "        if self.head is None:\n",
    "            print(\"linked list is empty\")\n",
    "            return\n",
    "        else:\n",
    "            self.head=self.head.ref\n",
    "            \n",
    "    def del_lastN(self):#--Delete Last node of the linked list\n",
    "        if self.head is None:\n",
    "            print(\"linked list is empty\")\n",
    "            return\n",
    "        elif self.head.ref is None:\n",
    "            self.head=None\n",
    "        else:\n",
    "            n=self.head\n",
    "            while n.ref is not None:\n",
    "                prev=n\n",
    "                n=n.ref\n",
    "            if prev.ref is not None:\n",
    "                prev.ref=None\n",
    "            \n",
    "    def del_byvalue(self,value):#--Delete node by value of Node\n",
    "        if self.head is None:\n",
    "            print(\"linked list is empty\")\n",
    "            return\n",
    "        if value==self.head.data:\n",
    "            self.head=self.head.ref\n",
    "            return\n",
    "        n=self.head\n",
    "        while n.ref is not None:\n",
    "            if value==n.ref.data:\n",
    "                break\n",
    "            #prev=n\n",
    "            n=n.ref\n",
    "        #prev.ref=n.ref\n",
    "        if n.ref is None:\n",
    "            print(\"Node is not present!\")\n",
    "        else:\n",
    "            n.ref=n.ref.ref\n",
    "            \n",
    "    def test(self,value):#--for testing waste\n",
    "        if self.head is None:\n",
    "            print(\"linked list is empty\")\n",
    "            return\n",
    "        if value==self.head.data:\n",
    "            self.head=self.head.ref\n",
    "            return\n",
    "        else:\n",
    "            n=self.head\n",
    "            while n.ref is not None:\n",
    "                if value==n.ref.data:\n",
    "                    break\n",
    "                prev=n\n",
    "                n=n.ref\n",
    "            #prev.ref=n.ref\n",
    "            if n.ref.ref is None:\n",
    "                print(\"Node is not present!\")\n",
    "            else:\n",
    "                #n.ref=n.ref.ref\n",
    "                prev.ref.ref=n.ref.ref"
   ]
  },
  {
   "cell_type": "code",
   "execution_count": 528,
   "id": "9ccccf47-2957-42de-bed2-400fd7bed595",
   "metadata": {},
   "outputs": [],
   "source": [
    "ll1=LinkedList()"
   ]
  },
  {
   "cell_type": "code",
   "execution_count": 529,
   "id": "f0cc81e7-2628-4906-acc9-8791d2514d16",
   "metadata": {},
   "outputs": [],
   "source": [
    "ll1.add_begin(30)\n",
    "ll1.add_begin(25)\n",
    "ll1.add_begin(15)\n",
    "ll1.add_end(33)\n",
    "ll1.add_end(43)\n",
    "ll1.add_end(53)"
   ]
  },
  {
   "cell_type": "code",
   "execution_count": 441,
   "id": "19c37a95-51c6-46bc-9f50-d2a3fdbfe7d9",
   "metadata": {},
   "outputs": [],
   "source": [
    "ll1.del_1stN()#To delete 1st node of list"
   ]
  },
  {
   "cell_type": "code",
   "execution_count": 460,
   "id": "a0ee1a8b-431a-4415-9450-475b79541f93",
   "metadata": {},
   "outputs": [
    {
     "name": "stdout",
     "output_type": "stream",
     "text": [
      "15 --> 25 --> 30 --> 33 --> 43 --> 53 --> "
     ]
    }
   ],
   "source": [
    "ll1.print_LL()#To print list"
   ]
  },
  {
   "cell_type": "code",
   "execution_count": 428,
   "id": "fbae6c1c-4431-45c7-a80f-b0271f86e7f1",
   "metadata": {},
   "outputs": [],
   "source": [
    "ll1.del_lastN()#To delete last node"
   ]
  },
  {
   "cell_type": "code",
   "execution_count": 467,
   "id": "453d475f-2102-4469-be7b-6bf0cd9a4cb4",
   "metadata": {},
   "outputs": [
    {
     "name": "stdout",
     "output_type": "stream",
     "text": [
      "15 --> 25 --> 30 --> 33 --> 43 --> 53 --> "
     ]
    }
   ],
   "source": [
    "ll1.print_LL()#To print list"
   ]
  },
  {
   "cell_type": "code",
   "execution_count": 462,
   "id": "4a1df372-6a13-48c7-80ed-38ccb1511239",
   "metadata": {},
   "outputs": [],
   "source": [
    "ll1.del_byvalue(33)"
   ]
  },
  {
   "cell_type": "code",
   "execution_count": 530,
   "id": "b2c1165d-a1dc-4500-9a7f-829e08978a1d",
   "metadata": {},
   "outputs": [
    {
     "name": "stdout",
     "output_type": "stream",
     "text": [
      "15 --> 25 --> 30 --> 33 --> 43 --> 53 --> "
     ]
    }
   ],
   "source": [
    "ll1.print_LL()#To print list"
   ]
  },
  {
   "cell_type": "code",
   "execution_count": 541,
   "id": "8dadba09-10ca-4fbb-9c9a-9dc4043d99c2",
   "metadata": {},
   "outputs": [],
   "source": [
    "ll1.del_byvalue(30)"
   ]
  },
  {
   "cell_type": "code",
   "execution_count": 542,
   "id": "ac8f3eab-7f9a-4a45-b8c7-83c8b1a8d35a",
   "metadata": {},
   "outputs": [
    {
     "name": "stdout",
     "output_type": "stream",
     "text": [
      "Linked list is empty\n"
     ]
    }
   ],
   "source": [
    "ll1.print_LL()#To print list"
   ]
  },
  {
   "cell_type": "code",
   "execution_count": null,
   "id": "695b1df2-3ac9-4bc6-a342-aa0348245d6a",
   "metadata": {},
   "outputs": [],
   "source": []
  }
 ],
 "metadata": {
  "kernelspec": {
   "display_name": "Python 3 (ipykernel)",
   "language": "python",
   "name": "python3"
  },
  "language_info": {
   "codemirror_mode": {
    "name": "ipython",
    "version": 3
   },
   "file_extension": ".py",
   "mimetype": "text/x-python",
   "name": "python",
   "nbconvert_exporter": "python",
   "pygments_lexer": "ipython3",
   "version": "3.9.7"
  }
 },
 "nbformat": 4,
 "nbformat_minor": 5
}
