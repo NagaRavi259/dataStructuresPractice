{
 "cells": [
  {
   "cell_type": "code",
   "execution_count": 1,
   "id": "50c8a1fe-ec97-459b-a452-6a8dc8752d3c",
   "metadata": {},
   "outputs": [],
   "source": [
    "#stack works on lifo order last in first order\n",
    "#stack operations are push and pop \n",
    "#push or append will add element and pop will remove element at the end of list\n",
    "#stacks can be done by using the lists and python modules"
   ]
  },
  {
   "cell_type": "code",
   "execution_count": 2,
   "id": "5babeccc-5106-4543-b74b-59a88c26010c",
   "metadata": {},
   "outputs": [],
   "source": [
    "#using lists"
   ]
  },
  {
   "cell_type": "code",
   "execution_count": 6,
   "id": "f31cc89a-cd72-467e-ba10-61fdae6cf857",
   "metadata": {},
   "outputs": [],
   "source": [
    "stack=[]"
   ]
  },
  {
   "cell_type": "code",
   "execution_count": 17,
   "id": "fa3f9b54-f501-4838-b046-808470346f2f",
   "metadata": {},
   "outputs": [],
   "source": [
    "stack.append(10)\n",
    "stack.append(15)\n",
    "stack.append(20)"
   ]
  },
  {
   "cell_type": "code",
   "execution_count": 8,
   "id": "0b779d96-4a5d-45c5-963b-f8f4cfa729b5",
   "metadata": {},
   "outputs": [
    {
     "data": {
      "text/plain": [
       "[10, 15, 20]"
      ]
     },
     "execution_count": 8,
     "metadata": {},
     "output_type": "execute_result"
    }
   ],
   "source": [
    "stack"
   ]
  },
  {
   "cell_type": "code",
   "execution_count": 12,
   "id": "12167079-8d9b-4597-bdd4-c693c58b9b51",
   "metadata": {},
   "outputs": [
    {
     "ename": "IndexError",
     "evalue": "pop from empty list",
     "output_type": "error",
     "traceback": [
      "\u001b[1;31m---------------------------------------------------------------------------\u001b[0m",
      "\u001b[1;31mIndexError\u001b[0m                                Traceback (most recent call last)",
      "\u001b[1;32m~\\AppData\\Local\\Temp/ipykernel_1728/2667379430.py\u001b[0m in \u001b[0;36m<module>\u001b[1;34m\u001b[0m\n\u001b[1;32m----> 1\u001b[1;33m \u001b[0mstack\u001b[0m\u001b[1;33m.\u001b[0m\u001b[0mpop\u001b[0m\u001b[1;33m(\u001b[0m\u001b[1;33m)\u001b[0m\u001b[1;33m\u001b[0m\u001b[1;33m\u001b[0m\u001b[0m\n\u001b[0m",
      "\u001b[1;31mIndexError\u001b[0m: pop from empty list"
     ]
    }
   ],
   "source": [
    "stack.pop()"
   ]
  },
  {
   "cell_type": "code",
   "execution_count": 14,
   "id": "d8d6024a-a6d0-4238-aaef-f58eaaafc4d0",
   "metadata": {},
   "outputs": [
    {
     "data": {
      "text/plain": [
       "True"
      ]
     },
     "execution_count": 14,
     "metadata": {},
     "output_type": "execute_result"
    }
   ],
   "source": [
    "len(stack)==0 #check empty or not"
   ]
  },
  {
   "cell_type": "code",
   "execution_count": 15,
   "id": "7753baaf-8d1f-44ec-b9ca-e945cdeb3a60",
   "metadata": {},
   "outputs": [
    {
     "data": {
      "text/plain": [
       "True"
      ]
     },
     "execution_count": 15,
     "metadata": {},
     "output_type": "execute_result"
    }
   ],
   "source": [
    "not stack #check empty or not"
   ]
  },
  {
   "cell_type": "code",
   "execution_count": 18,
   "id": "81952f19-ca45-4134-bad0-2cf6cecc2d66",
   "metadata": {},
   "outputs": [
    {
     "data": {
      "text/plain": [
       "20"
      ]
     },
     "execution_count": 18,
     "metadata": {},
     "output_type": "execute_result"
    }
   ],
   "source": [
    "stack[-1]"
   ]
  },
  {
   "cell_type": "code",
   "execution_count": 32,
   "id": "1f3d7ccd-0dec-458d-9f03-299ec00370f4",
   "metadata": {},
   "outputs": [],
   "source": [
    "#using Modules\n",
    "#collections Module class deque\n",
    "import collections"
   ]
  },
  {
   "cell_type": "code",
   "execution_count": 24,
   "id": "fd0d136a-7b47-4ffe-b838-40485954f561",
   "metadata": {},
   "outputs": [],
   "source": [
    "stack = collections.deque()"
   ]
  },
  {
   "cell_type": "code",
   "execution_count": 25,
   "id": "5f5767fc-dd7f-4eb3-87a0-84b2503d8cc8",
   "metadata": {},
   "outputs": [
    {
     "data": {
      "text/plain": [
       "deque([])"
      ]
     },
     "execution_count": 25,
     "metadata": {},
     "output_type": "execute_result"
    }
   ],
   "source": [
    "stack"
   ]
  },
  {
   "cell_type": "code",
   "execution_count": 35,
   "id": "a13130de-54a7-4086-b4b6-58c9f7d13eb3",
   "metadata": {},
   "outputs": [],
   "source": [
    "stack.append(10)\n",
    "stack.append(15)\n",
    "stack.append(20)"
   ]
  },
  {
   "cell_type": "code",
   "execution_count": 27,
   "id": "ba5c53c4-9fee-404e-b1c8-40cd4666b626",
   "metadata": {},
   "outputs": [
    {
     "data": {
      "text/plain": [
       "deque([10, 15, 20])"
      ]
     },
     "execution_count": 27,
     "metadata": {},
     "output_type": "execute_result"
    }
   ],
   "source": [
    "stack"
   ]
  },
  {
   "cell_type": "code",
   "execution_count": 31,
   "id": "4eb43a9e-20ae-46e2-a70d-5428309874c1",
   "metadata": {},
   "outputs": [
    {
     "ename": "IndexError",
     "evalue": "pop from an empty deque",
     "output_type": "error",
     "traceback": [
      "\u001b[1;31m---------------------------------------------------------------------------\u001b[0m",
      "\u001b[1;31mIndexError\u001b[0m                                Traceback (most recent call last)",
      "\u001b[1;32m~\\AppData\\Local\\Temp/ipykernel_1728/2667379430.py\u001b[0m in \u001b[0;36m<module>\u001b[1;34m\u001b[0m\n\u001b[1;32m----> 1\u001b[1;33m \u001b[0mstack\u001b[0m\u001b[1;33m.\u001b[0m\u001b[0mpop\u001b[0m\u001b[1;33m(\u001b[0m\u001b[1;33m)\u001b[0m\u001b[1;33m\u001b[0m\u001b[1;33m\u001b[0m\u001b[0m\n\u001b[0m",
      "\u001b[1;31mIndexError\u001b[0m: pop from an empty deque"
     ]
    }
   ],
   "source": [
    "stack.pop()"
   ]
  },
  {
   "cell_type": "code",
   "execution_count": 33,
   "id": "9e3495c8-8418-440f-a262-32127da9a1e8",
   "metadata": {},
   "outputs": [
    {
     "data": {
      "text/plain": [
       "True"
      ]
     },
     "execution_count": 33,
     "metadata": {},
     "output_type": "execute_result"
    }
   ],
   "source": [
    "not stack"
   ]
  },
  {
   "cell_type": "code",
   "execution_count": 34,
   "id": "5832e75d-66ba-4974-afa2-7d5aacd5c63c",
   "metadata": {},
   "outputs": [
    {
     "data": {
      "text/plain": [
       "0"
      ]
     },
     "execution_count": 34,
     "metadata": {},
     "output_type": "execute_result"
    }
   ],
   "source": [
    "len(stack)"
   ]
  },
  {
   "cell_type": "code",
   "execution_count": 36,
   "id": "9f093145-38d0-47b2-aaf4-f40aa29206a3",
   "metadata": {},
   "outputs": [
    {
     "data": {
      "text/plain": [
       "20"
      ]
     },
     "execution_count": 36,
     "metadata": {},
     "output_type": "execute_result"
    }
   ],
   "source": [
    "stack[-1]"
   ]
  },
  {
   "cell_type": "code",
   "execution_count": 1,
   "id": "70d55304-fc91-415b-b061-6f10856b4fb0",
   "metadata": {},
   "outputs": [],
   "source": [
    "#using Modules\n",
    "#queue in lifoqueue class \n",
    "# for push use put for the pop use get\n",
    "import queue"
   ]
  },
  {
   "cell_type": "code",
   "execution_count": 2,
   "id": "64ec67c3-2246-403b-8273-28ee91f55f74",
   "metadata": {},
   "outputs": [],
   "source": [
    "stack = queue.LifoQueue() "
   ]
  },
  {
   "cell_type": "code",
   "execution_count": 3,
   "id": "fefe8d68-7e8b-4118-ac14-151eab98524a",
   "metadata": {},
   "outputs": [],
   "source": [
    "stack.put(10)\n",
    "stack.put(15)\n",
    "stack.put(20)"
   ]
  },
  {
   "cell_type": "code",
   "execution_count": 7,
   "id": "9f7e748b-31d0-4ef9-80a7-e68f6a6f10f6",
   "metadata": {},
   "outputs": [
    {
     "ename": "Empty",
     "evalue": "",
     "output_type": "error",
     "traceback": [
      "\u001b[1;31m---------------------------------------------------------------------------\u001b[0m",
      "\u001b[1;31mEmpty\u001b[0m                                     Traceback (most recent call last)",
      "\u001b[1;32m~\\AppData\\Local\\Temp/ipykernel_9632/830661441.py\u001b[0m in \u001b[0;36m<module>\u001b[1;34m\u001b[0m\n\u001b[1;32m----> 1\u001b[1;33m \u001b[0mstack\u001b[0m\u001b[1;33m.\u001b[0m\u001b[0mget\u001b[0m\u001b[1;33m(\u001b[0m\u001b[0mtimeout\u001b[0m\u001b[1;33m=\u001b[0m\u001b[1;36m1\u001b[0m\u001b[1;33m)\u001b[0m \u001b[1;31m#it will take time to get null stak error\u001b[0m\u001b[1;33m\u001b[0m\u001b[1;33m\u001b[0m\u001b[0m\n\u001b[0m",
      "\u001b[1;32m~\\anaconda3\\lib\\queue.py\u001b[0m in \u001b[0;36mget\u001b[1;34m(self, block, timeout)\u001b[0m\n\u001b[0;32m    177\u001b[0m                     \u001b[0mremaining\u001b[0m \u001b[1;33m=\u001b[0m \u001b[0mendtime\u001b[0m \u001b[1;33m-\u001b[0m \u001b[0mtime\u001b[0m\u001b[1;33m(\u001b[0m\u001b[1;33m)\u001b[0m\u001b[1;33m\u001b[0m\u001b[1;33m\u001b[0m\u001b[0m\n\u001b[0;32m    178\u001b[0m                     \u001b[1;32mif\u001b[0m \u001b[0mremaining\u001b[0m \u001b[1;33m<=\u001b[0m \u001b[1;36m0.0\u001b[0m\u001b[1;33m:\u001b[0m\u001b[1;33m\u001b[0m\u001b[1;33m\u001b[0m\u001b[0m\n\u001b[1;32m--> 179\u001b[1;33m                         \u001b[1;32mraise\u001b[0m \u001b[0mEmpty\u001b[0m\u001b[1;33m\u001b[0m\u001b[1;33m\u001b[0m\u001b[0m\n\u001b[0m\u001b[0;32m    180\u001b[0m                     \u001b[0mself\u001b[0m\u001b[1;33m.\u001b[0m\u001b[0mnot_empty\u001b[0m\u001b[1;33m.\u001b[0m\u001b[0mwait\u001b[0m\u001b[1;33m(\u001b[0m\u001b[0mremaining\u001b[0m\u001b[1;33m)\u001b[0m\u001b[1;33m\u001b[0m\u001b[1;33m\u001b[0m\u001b[0m\n\u001b[0;32m    181\u001b[0m             \u001b[0mitem\u001b[0m \u001b[1;33m=\u001b[0m \u001b[0mself\u001b[0m\u001b[1;33m.\u001b[0m\u001b[0m_get\u001b[0m\u001b[1;33m(\u001b[0m\u001b[1;33m)\u001b[0m\u001b[1;33m\u001b[0m\u001b[1;33m\u001b[0m\u001b[0m\n",
      "\u001b[1;31mEmpty\u001b[0m: "
     ]
    }
   ],
   "source": [
    "stack.get(timeout=1) #it will take time to get null stak error "
   ]
  },
  {
   "cell_type": "code",
   "execution_count": null,
   "id": "048ce2cc-8582-4140-9a20-9b93656bce60",
   "metadata": {},
   "outputs": [],
   "source": []
  }
 ],
 "metadata": {
  "kernelspec": {
   "display_name": "Python 3 (ipykernel)",
   "language": "python",
   "name": "python3"
  },
  "language_info": {
   "codemirror_mode": {
    "name": "ipython",
    "version": 3
   },
   "file_extension": ".py",
   "mimetype": "text/x-python",
   "name": "python",
   "nbconvert_exporter": "python",
   "pygments_lexer": "ipython3",
   "version": "3.9.7"
  }
 },
 "nbformat": 4,
 "nbformat_minor": 5
}
