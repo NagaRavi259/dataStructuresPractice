{
 "cells": [
  {
   "cell_type": "code",
   "execution_count": null,
   "id": "1d320450",
   "metadata": {},
   "outputs": [],
   "source": [
    "h=[x**2 for x in range(8,0,-1)  ]"
   ]
  },
  {
   "cell_type": "code",
   "execution_count": null,
   "id": "c303d03f",
   "metadata": {},
   "outputs": [],
   "source": [
    "h"
   ]
  },
  {
   "cell_type": "code",
   "execution_count": null,
   "id": "14326182",
   "metadata": {},
   "outputs": [],
   "source": [
    "x, y, z, n = 2, 3, 4, 5\n",
    "\n",
    "print([[i, j, k] for i in range(x + 1) for j in range(y + 1) for k in range(z + 1) if i + j + k != n])\n",
    "\n",
    "print([[x, y, z] for x in [1, 2, 3] for y in [4, 5, 6] for z in [9,8,7]])"
   ]
  },
  {
   "cell_type": "code",
   "execution_count": null,
   "id": "e9394a1c",
   "metadata": {},
   "outputs": [],
   "source": [
    "def bubblesort(lst):\n",
    "    for n in range(len(lst)-1, 0, -1):\n",
    "        for i in range(n):\n",
    "            if lst[i] > lst[i + 1]:\n",
    "                lst[i], lst[i + 1] = lst[i + 1], lst[i]\n",
    "lst = [39,12,18,85,72,10,2,18]\n",
    "\n",
    "print(\"Unsorted list is,\")\n",
    "print(lst)\n",
    "bubblesort(lst)\n",
    "print(\"Sorted Array is, \")\n",
    "print(lst)"
   ]
  },
  {
   "cell_type": "code",
   "execution_count": null,
   "id": "7d7d5af0",
   "metadata": {},
   "outputs": [],
   "source": []
  },
  {
   "cell_type": "code",
   "execution_count": null,
   "id": "3002956a",
   "metadata": {},
   "outputs": [],
   "source": []
  }
 ],
 "metadata": {
  "kernelspec": {
   "display_name": "Python 3 (ipykernel)",
   "language": "python",
   "name": "python3"
  },
  "language_info": {
   "codemirror_mode": {
    "name": "ipython",
    "version": 3
   },
   "file_extension": ".py",
   "mimetype": "text/x-python",
   "name": "python",
   "nbconvert_exporter": "python",
   "pygments_lexer": "ipython3",
   "version": "3.9.7"
  }
 },
 "nbformat": 4,
 "nbformat_minor": 5
}
