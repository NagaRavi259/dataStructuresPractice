{
 "cells": [
  {
   "cell_type": "code",
   "execution_count": 16,
   "id": "2893037e-f4e2-4512-b8e5-cec9704f4a1d",
   "metadata": {},
   "outputs": [],
   "source": [
    "class BST:\n",
    "    def __init__(self,key):\n",
    "        self.key = key\n",
    "        self.rchild = None\n",
    "        self.lchild = None\n",
    "        \n",
    "    def insert(self, data):\n",
    "        if self.key==None:\n",
    "            self.key=data\n",
    "            return\n",
    "        if self.key>data:\n",
    "            if self.lchild:\n",
    "                self.lchild.insert(data)\n",
    "            else:\n",
    "                self.lchild = BST(data)\n",
    "        else:\n",
    "            if self.rchild:\n",
    "                self.rchild.insert(data)\n",
    "            else:\n",
    "                self.rchild = BST(data)\n",
    "    def search(self,data):\n",
    "        if self.key == data:\n",
    "            print(\"its in\")\n",
    "            return\n",
    "        if data < self.key:\n",
    "            if self.lchild:\n",
    "                self.lchild.search(data)\n",
    "            else:\n",
    "                print(\"Node is not present in tree\")\n",
    "        else:\n",
    "            if self.rchild:\n",
    "                self.rchild.search(data)\n",
    "            else:\n",
    "                print(\"Node is not present in tree\")\n",
    "            "
   ]
  },
  {
   "cell_type": "code",
   "execution_count": 17,
   "id": "6db29474-6090-45e9-9636-e962bcb21a72",
   "metadata": {},
   "outputs": [],
   "source": [
    "root=BST(10)"
   ]
  },
  {
   "cell_type": "code",
   "execution_count": 20,
   "id": "b5415838-038d-475e-a478-c2a9c870e6e6",
   "metadata": {},
   "outputs": [],
   "source": [
    "root.insert(29)"
   ]
  },
  {
   "cell_type": "code",
   "execution_count": 26,
   "id": "69b7579e-afc2-4478-b2c5-8c6d4f24278d",
   "metadata": {},
   "outputs": [],
   "source": [
    "g= [45,53,24,7,31,5,24,87,323,3]\n",
    "for i in g:\n",
    "    root.insert(i)"
   ]
  },
  {
   "cell_type": "code",
   "execution_count": 29,
   "id": "0ca52131-0aee-46d9-a662-2213ae2c3996",
   "metadata": {},
   "outputs": [
    {
     "name": "stdout",
     "output_type": "stream",
     "text": [
      "its in\n"
     ]
    }
   ],
   "source": [
    "root.search(323)"
   ]
  },
  {
   "cell_type": "code",
   "execution_count": null,
   "id": "6fb93a22-5b34-4587-82aa-e9269d2646fc",
   "metadata": {},
   "outputs": [],
   "source": []
  }
 ],
 "metadata": {
  "kernelspec": {
   "display_name": "Python 3 (ipykernel)",
   "language": "python",
   "name": "python3"
  },
  "language_info": {
   "codemirror_mode": {
    "name": "ipython",
    "version": 3
   },
   "file_extension": ".py",
   "mimetype": "text/x-python",
   "name": "python",
   "nbconvert_exporter": "python",
   "pygments_lexer": "ipython3",
   "version": "3.9.7"
  }
 },
 "nbformat": 4,
 "nbformat_minor": 5
}
