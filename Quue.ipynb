{
 "cells": [
  {
   "cell_type": "code",
   "execution_count": 1,
   "id": "c3063c12-cee6-4faa-8098-1b33197fd494",
   "metadata": {},
   "outputs": [],
   "source": [
    "##Queue DataStructure\n",
    "#queue is a linear datastruture where the elements are inserted in one side and removed from the the other side\n",
    "#queue is opened in both ways thats why its easy to remove and add elemts at the same time\n",
    "# where the elements are added are called as back/tail/rear  of the queue and \n",
    "# where the elements are removed are called as front/head of the queue"
   ]
  },
  {
   "cell_type": "code",
   "execution_count": 2,
   "id": "84028ade-f7de-4c09-92da-fb1199a51091",
   "metadata": {},
   "outputs": [],
   "source": [
    "#queue follows FIFO or LILO methoids\n",
    "#FIFO - First in first out  --queue\n",
    "#LILO - Last in last out  --stack\n",
    "#The process of adding the element is called as enqueue and ***\n",
    "#the process of removing the element is called as dequeue ***\n",
    "#is full to check full or not\n",
    "#isempty to check empty queue\n",
    "#usage\n",
    "    #its used in conditions where the function is needed first in first out\n",
    "        #proess one at a time FIFO\n",
    "        #uploading bunch of files\n",
    "        #printing documents\n",
    "            #call center phone systems uses Queues\n",
    "            "
   ]
  },
  {
   "cell_type": "code",
   "execution_count": 4,
   "id": "b81abf73-481e-47f8-8341-267c83987abc",
   "metadata": {},
   "outputs": [],
   "source": [
    "#Queues using lists\n",
    "#enqueue = append\n",
    "#dequeue = list.pop(0) index is used to remove the fist element in the list because queue is opened at both ends\n",
    "queue = []"
   ]
  },
  {
   "cell_type": "code",
   "execution_count": 14,
   "id": "d748b88a-fa34-464d-bf97-068816eaeb95",
   "metadata": {},
   "outputs": [],
   "source": [
    "queue.append(10)\n",
    "queue.append(20)\n",
    "queue.append(30)"
   ]
  },
  {
   "cell_type": "code",
   "execution_count": 15,
   "id": "20d1070e-3c8e-45b8-a94c-3735d0a9d2aa",
   "metadata": {},
   "outputs": [
    {
     "data": {
      "text/plain": [
       "[10, 20, 30]"
      ]
     },
     "execution_count": 15,
     "metadata": {},
     "output_type": "execute_result"
    }
   ],
   "source": [
    "queue"
   ]
  },
  {
   "cell_type": "code",
   "execution_count": 20,
   "id": "52e43845-faa9-4b17-af93-68e6b2101d13",
   "metadata": {},
   "outputs": [
    {
     "ename": "IndexError",
     "evalue": "pop from empty list",
     "output_type": "error",
     "traceback": [
      "\u001b[1;31m---------------------------------------------------------------------------\u001b[0m",
      "\u001b[1;31mIndexError\u001b[0m                                Traceback (most recent call last)",
      "\u001b[1;32m~\\AppData\\Local\\Temp/ipykernel_7960/4007960661.py\u001b[0m in \u001b[0;36m<module>\u001b[1;34m\u001b[0m\n\u001b[0;32m      1\u001b[0m \u001b[0mqueue\u001b[0m\u001b[1;33m.\u001b[0m\u001b[0mpop\u001b[0m\u001b[1;33m(\u001b[0m\u001b[1;36m0\u001b[0m\u001b[1;33m)\u001b[0m\u001b[1;33m\u001b[0m\u001b[1;33m\u001b[0m\u001b[0m\n\u001b[1;32m----> 2\u001b[1;33m \u001b[0mqueue\u001b[0m\u001b[1;33m.\u001b[0m\u001b[0mpop\u001b[0m\u001b[1;33m(\u001b[0m\u001b[1;36m0\u001b[0m\u001b[1;33m)\u001b[0m\u001b[1;33m\u001b[0m\u001b[1;33m\u001b[0m\u001b[0m\n\u001b[0m\u001b[0;32m      3\u001b[0m \u001b[0mqueue\u001b[0m\u001b[1;33m.\u001b[0m\u001b[0mpop\u001b[0m\u001b[1;33m(\u001b[0m\u001b[1;36m0\u001b[0m\u001b[1;33m)\u001b[0m\u001b[1;33m\u001b[0m\u001b[1;33m\u001b[0m\u001b[0m\n",
      "\u001b[1;31mIndexError\u001b[0m: pop from empty list"
     ]
    }
   ],
   "source": [
    "queue.pop(0)\n",
    "queue.pop(0)\n",
    "queue.pop(0)"
   ]
  },
  {
   "cell_type": "code",
   "execution_count": 19,
   "id": "1671950c-65a4-4fd2-abac-8ed497fa93f2",
   "metadata": {},
   "outputs": [
    {
     "data": {
      "text/plain": [
       "[20]"
      ]
     },
     "execution_count": 19,
     "metadata": {},
     "output_type": "execute_result"
    }
   ],
   "source": [
    "queue"
   ]
  },
  {
   "cell_type": "code",
   "execution_count": 28,
   "id": "3942ac22-d8c3-4f29-9796-7b85b6ea48e7",
   "metadata": {},
   "outputs": [],
   "source": [
    "queue.insert(0,10)\n",
    "queue.insert(0,20)\n",
    "queue.insert(0,30)"
   ]
  },
  {
   "cell_type": "code",
   "execution_count": 22,
   "id": "15ef68ed-f214-462a-91c1-e2c37d950ff4",
   "metadata": {},
   "outputs": [
    {
     "data": {
      "text/plain": [
       "[30, 20, 10]"
      ]
     },
     "execution_count": 22,
     "metadata": {},
     "output_type": "execute_result"
    }
   ],
   "source": [
    "queue"
   ]
  },
  {
   "cell_type": "code",
   "execution_count": 23,
   "id": "73309dd6-7b32-4fe9-b115-1e999634a3b2",
   "metadata": {},
   "outputs": [
    {
     "data": {
      "text/plain": [
       "10"
      ]
     },
     "execution_count": 23,
     "metadata": {},
     "output_type": "execute_result"
    }
   ],
   "source": [
    "queue.pop()"
   ]
  },
  {
   "cell_type": "code",
   "execution_count": 24,
   "id": "84cdd13f-5b76-4233-9f72-521da8548ed0",
   "metadata": {},
   "outputs": [
    {
     "data": {
      "text/plain": [
       "20"
      ]
     },
     "execution_count": 24,
     "metadata": {},
     "output_type": "execute_result"
    }
   ],
   "source": [
    "queue.pop()"
   ]
  },
  {
   "cell_type": "code",
   "execution_count": 25,
   "id": "0426d4ac-051a-4be3-9506-9935fe66179c",
   "metadata": {},
   "outputs": [
    {
     "data": {
      "text/plain": [
       "30"
      ]
     },
     "execution_count": 25,
     "metadata": {},
     "output_type": "execute_result"
    }
   ],
   "source": [
    "queue.pop()"
   ]
  },
  {
   "cell_type": "code",
   "execution_count": 26,
   "id": "4d554c70-b2d5-49e1-8eef-b5013232ae36",
   "metadata": {},
   "outputs": [
    {
     "data": {
      "text/plain": [
       "True"
      ]
     },
     "execution_count": 26,
     "metadata": {},
     "output_type": "execute_result"
    }
   ],
   "source": [
    "not queue"
   ]
  },
  {
   "cell_type": "code",
   "execution_count": 29,
   "id": "e4ad0f4f-f238-4d5a-a5f3-a528356405bb",
   "metadata": {},
   "outputs": [
    {
     "data": {
      "text/plain": [
       "10"
      ]
     },
     "execution_count": 29,
     "metadata": {},
     "output_type": "execute_result"
    }
   ],
   "source": [
    "queue[-1]"
   ]
  },
  {
   "cell_type": "code",
   "execution_count": 30,
   "id": "033757eb-1417-40a2-9070-ea99f7da29b3",
   "metadata": {},
   "outputs": [
    {
     "data": {
      "text/plain": [
       "30"
      ]
     },
     "execution_count": 30,
     "metadata": {},
     "output_type": "execute_result"
    }
   ],
   "source": [
    "queue[0]"
   ]
  },
  {
   "cell_type": "code",
   "execution_count": null,
   "id": "3a87097f-e6c6-40b0-82d7-e8b94b4e92f9",
   "metadata": {},
   "outputs": [],
   "source": [
    "queue=[]\n",
    "def enqueue():\n",
    "    element =input(\"Enter the elemnt:-\")\n",
    "    queue.append(element)\n",
    "    print(element,\"is added to queue\")\n",
    "    \n",
    "def dequeue():\n",
    "    if not queue:\n",
    "        print(\"queue is empty\")\n",
    "    else:\n",
    "        e=queue.pop(0)\n",
    "        print(\"element is removed from queue\",e)\n",
    "        \n",
    "def display():\n",
    "    print(queue)\n",
    "\n",
    "while True:\n",
    "    print(\"\")\n",
    "    print(\"Select the operation:-\\n 1.Add\\n 2.remove\\n 3.display\\n\")\n",
    "    choice=int(input())\n",
    "    if choice==1:\n",
    "        enqueue()\n",
    "    elif choice==2:\n",
    "        dequeue()\n",
    "    elif choice==3:\n",
    "        display()\n",
    "    elif choice==4:\n",
    "        break\n",
    "    else:\n",
    "        print(\"Enter correct operation\")"
   ]
  },
  {
   "cell_type": "code",
   "execution_count": 39,
   "id": "53fbc2d4-690f-4f37-9c52-9dd3d48a848b",
   "metadata": {},
   "outputs": [],
   "source": [
    "##queue using classes and modules\n",
    "#1.deque from collections module\n",
    "    #it can provide us a entering and removing data from both ends \n",
    "        #[left,,,,,,,Right]\n",
    "        #to enter or remove data from right side use append and pop to add or remove data\n",
    "        #to enter or remove data from Left side use appendleft and popleft to add or remove data\n",
    "    #queue works on FIFO method"
   ]
  },
  {
   "cell_type": "code",
   "execution_count": 40,
   "id": "f0802f37-42e3-4606-a731-b16966ccd330",
   "metadata": {},
   "outputs": [],
   "source": [
    "import collections"
   ]
  },
  {
   "cell_type": "code",
   "execution_count": 41,
   "id": "e506731a-0f9a-4ce4-a709-3f9c2053a38d",
   "metadata": {},
   "outputs": [],
   "source": [
    "q=collections.deque()"
   ]
  },
  {
   "cell_type": "code",
   "execution_count": 42,
   "id": "d8b70345-971f-40a5-a19c-5f2f07ea8bca",
   "metadata": {},
   "outputs": [
    {
     "data": {
      "text/plain": [
       "deque([])"
      ]
     },
     "execution_count": 42,
     "metadata": {},
     "output_type": "execute_result"
    }
   ],
   "source": [
    "q"
   ]
  },
  {
   "cell_type": "code",
   "execution_count": 43,
   "id": "4666e1a5-0271-414c-87af-ff1de804c99d",
   "metadata": {},
   "outputs": [],
   "source": [
    "q.appendleft(10)"
   ]
  },
  {
   "cell_type": "code",
   "execution_count": 44,
   "id": "4876fbc1-0f5c-4ae3-9a95-2ec525fafa09",
   "metadata": {},
   "outputs": [],
   "source": [
    "q.appendleft(20)"
   ]
  },
  {
   "cell_type": "code",
   "execution_count": 45,
   "id": "64169d8a-67e2-4953-bb73-edb3ca917aaa",
   "metadata": {},
   "outputs": [],
   "source": [
    "q.appendleft(30)"
   ]
  },
  {
   "cell_type": "code",
   "execution_count": 46,
   "id": "efe95721-24f0-4f9b-b2f9-9b079d85dedc",
   "metadata": {},
   "outputs": [
    {
     "data": {
      "text/plain": [
       "deque([30, 20, 10])"
      ]
     },
     "execution_count": 46,
     "metadata": {},
     "output_type": "execute_result"
    }
   ],
   "source": [
    "q"
   ]
  },
  {
   "cell_type": "code",
   "execution_count": 47,
   "id": "50e8831b-a003-475d-a6c5-c019d6281864",
   "metadata": {},
   "outputs": [
    {
     "data": {
      "text/plain": [
       "10"
      ]
     },
     "execution_count": 47,
     "metadata": {},
     "output_type": "execute_result"
    }
   ],
   "source": [
    "q.pop()"
   ]
  },
  {
   "cell_type": "code",
   "execution_count": 48,
   "id": "6b0cc049-1fc9-457e-b375-14d26d3c641e",
   "metadata": {},
   "outputs": [
    {
     "data": {
      "text/plain": [
       "20"
      ]
     },
     "execution_count": 48,
     "metadata": {},
     "output_type": "execute_result"
    }
   ],
   "source": [
    "q.pop()"
   ]
  },
  {
   "cell_type": "code",
   "execution_count": 49,
   "id": "96771515-95f4-4ab7-add7-194d3f48532f",
   "metadata": {},
   "outputs": [
    {
     "data": {
      "text/plain": [
       "30"
      ]
     },
     "execution_count": 49,
     "metadata": {},
     "output_type": "execute_result"
    }
   ],
   "source": [
    "q.pop()"
   ]
  },
  {
   "cell_type": "code",
   "execution_count": 50,
   "id": "57a04266-c834-4c55-8556-dbee7f5246b3",
   "metadata": {},
   "outputs": [
    {
     "ename": "IndexError",
     "evalue": "pop from an empty deque",
     "output_type": "error",
     "traceback": [
      "\u001b[1;31m---------------------------------------------------------------------------\u001b[0m",
      "\u001b[1;31mIndexError\u001b[0m                                Traceback (most recent call last)",
      "\u001b[1;32m~\\AppData\\Local\\Temp/ipykernel_7960/2543957430.py\u001b[0m in \u001b[0;36m<module>\u001b[1;34m\u001b[0m\n\u001b[1;32m----> 1\u001b[1;33m \u001b[0mq\u001b[0m\u001b[1;33m.\u001b[0m\u001b[0mpop\u001b[0m\u001b[1;33m(\u001b[0m\u001b[1;33m)\u001b[0m\u001b[1;33m\u001b[0m\u001b[1;33m\u001b[0m\u001b[0m\n\u001b[0m",
      "\u001b[1;31mIndexError\u001b[0m: pop from an empty deque"
     ]
    }
   ],
   "source": [
    "q.pop()"
   ]
  },
  {
   "cell_type": "code",
   "execution_count": 51,
   "id": "ee4fec34-e6cd-4b98-99a3-35923c99d566",
   "metadata": {},
   "outputs": [
    {
     "data": {
      "text/plain": [
       "deque([])"
      ]
     },
     "execution_count": 51,
     "metadata": {},
     "output_type": "execute_result"
    }
   ],
   "source": [
    "q"
   ]
  },
  {
   "cell_type": "code",
   "execution_count": 66,
   "id": "a59a4ca0-f9a2-4269-88d6-135be0db4c99",
   "metadata": {},
   "outputs": [],
   "source": [
    "q.append(10)"
   ]
  },
  {
   "cell_type": "code",
   "execution_count": 67,
   "id": "29cb4c4b-877f-40e9-b824-4d922466b255",
   "metadata": {},
   "outputs": [],
   "source": [
    "q.append(20)"
   ]
  },
  {
   "cell_type": "code",
   "execution_count": 68,
   "id": "ed0f163c-93fc-4151-bce3-500c8b81ebb2",
   "metadata": {},
   "outputs": [],
   "source": [
    "q.append(30)"
   ]
  },
  {
   "cell_type": "code",
   "execution_count": 55,
   "id": "af3dc124-9a60-43f1-982c-6eca5a5466a1",
   "metadata": {},
   "outputs": [
    {
     "data": {
      "text/plain": [
       "deque([10, 20, 30])"
      ]
     },
     "execution_count": 55,
     "metadata": {},
     "output_type": "execute_result"
    }
   ],
   "source": [
    "q"
   ]
  },
  {
   "cell_type": "code",
   "execution_count": 56,
   "id": "81539abe-9116-4169-ad6b-006263bab089",
   "metadata": {},
   "outputs": [
    {
     "data": {
      "text/plain": [
       "10"
      ]
     },
     "execution_count": 56,
     "metadata": {},
     "output_type": "execute_result"
    }
   ],
   "source": [
    "q.popleft()"
   ]
  },
  {
   "cell_type": "code",
   "execution_count": 57,
   "id": "ee7cc194-9c8a-4842-ba66-2acb2d53dd4d",
   "metadata": {},
   "outputs": [
    {
     "data": {
      "text/plain": [
       "20"
      ]
     },
     "execution_count": 57,
     "metadata": {},
     "output_type": "execute_result"
    }
   ],
   "source": [
    "q.popleft()"
   ]
  },
  {
   "cell_type": "code",
   "execution_count": 59,
   "id": "c23a20e0-4b93-4b27-af54-6f37b5efae25",
   "metadata": {},
   "outputs": [
    {
     "data": {
      "text/plain": [
       "30"
      ]
     },
     "execution_count": 59,
     "metadata": {},
     "output_type": "execute_result"
    }
   ],
   "source": [
    "q.popleft()"
   ]
  },
  {
   "cell_type": "code",
   "execution_count": 61,
   "id": "e348279d-3f14-455d-8f38-b4368815d3e2",
   "metadata": {},
   "outputs": [
    {
     "ename": "IndexError",
     "evalue": "pop from an empty deque",
     "output_type": "error",
     "traceback": [
      "\u001b[1;31m---------------------------------------------------------------------------\u001b[0m",
      "\u001b[1;31mIndexError\u001b[0m                                Traceback (most recent call last)",
      "\u001b[1;32m~\\AppData\\Local\\Temp/ipykernel_7960/3009220604.py\u001b[0m in \u001b[0;36m<module>\u001b[1;34m\u001b[0m\n\u001b[1;32m----> 1\u001b[1;33m \u001b[0mq\u001b[0m\u001b[1;33m.\u001b[0m\u001b[0mpopleft\u001b[0m\u001b[1;33m(\u001b[0m\u001b[1;33m)\u001b[0m\u001b[1;33m\u001b[0m\u001b[1;33m\u001b[0m\u001b[0m\n\u001b[0m",
      "\u001b[1;31mIndexError\u001b[0m: pop from an empty deque"
     ]
    }
   ],
   "source": [
    "q.popleft()"
   ]
  },
  {
   "cell_type": "code",
   "execution_count": 62,
   "id": "f82e6d68-2e28-4f2a-bb74-187d005dbdaa",
   "metadata": {},
   "outputs": [
    {
     "data": {
      "text/plain": [
       "True"
      ]
     },
     "execution_count": 62,
     "metadata": {},
     "output_type": "execute_result"
    }
   ],
   "source": [
    "not q"
   ]
  },
  {
   "cell_type": "code",
   "execution_count": 64,
   "id": "27c855ef-6a2a-4ba4-8894-712a0f6c333d",
   "metadata": {},
   "outputs": [],
   "source": [
    "#to check elements presentin the left or right side use indexing to acess that element like a list"
   ]
  },
  {
   "cell_type": "code",
   "execution_count": 69,
   "id": "ba4b590c-bd17-44cf-a637-e4f7ac3c2b5b",
   "metadata": {},
   "outputs": [
    {
     "data": {
      "text/plain": [
       "deque([10, 20, 30])"
      ]
     },
     "execution_count": 69,
     "metadata": {},
     "output_type": "execute_result"
    }
   ],
   "source": [
    "q"
   ]
  },
  {
   "cell_type": "code",
   "execution_count": 70,
   "id": "4844ce40-9423-4e2a-b1c3-ff500f9b935e",
   "metadata": {},
   "outputs": [
    {
     "data": {
      "text/plain": [
       "30"
      ]
     },
     "execution_count": 70,
     "metadata": {},
     "output_type": "execute_result"
    }
   ],
   "source": [
    "q[-1]"
   ]
  },
  {
   "cell_type": "code",
   "execution_count": 71,
   "id": "14bb0d1d-5de8-4b9d-92ac-22bf20bf7c3b",
   "metadata": {},
   "outputs": [
    {
     "data": {
      "text/plain": [
       "10"
      ]
     },
     "execution_count": 71,
     "metadata": {},
     "output_type": "execute_result"
    }
   ],
   "source": [
    "q[0]"
   ]
  },
  {
   "cell_type": "code",
   "execution_count": 74,
   "id": "fa64b154-def1-4044-988e-df9bbd6a5c4a",
   "metadata": {},
   "outputs": [],
   "source": [
    "#modules 2\n",
    "#module name queue class name is Queue\n",
    "    #this module contains different classes \n",
    "        #queue\n",
    "        #LIFOqueue\n",
    "        #priority queue\n",
    "        #to specify length of queue use queue.Queue(mazimum_size)\n",
    "            #if size is equel to zero or lessthen that it will be an infinite queue\n",
    "        #queuesize() to get the size of the queue\n",
    "        #queue.empty() to check queue is empty or not\n",
    "        #queue.full() to check whether the queue is full or not\n",
    "        #queue.put(item,block=True,timeout) to put the element \n",
    "            #it will put the item to the queue if block is true and timeout is not until block is empty\n",
    "                #it waits until the block is empty(free slot is available)\n",
    "        #put.nowait(item) it wont wait for space it simply says no space when queue is full\n",
    "        #get(block=True,timeout=None) method is used to get the element from the queue and \n",
    "            #it will wait untill the element is inserted into the queue and get that elemetnt\n",
    "        #get.nowait() method is used to get the elemwnt without considering the element in the queue\n",
    "        "
   ]
  },
  {
   "cell_type": "code",
   "execution_count": 75,
   "id": "2ee6e6fa-61d3-4397-887f-0c51374c876f",
   "metadata": {},
   "outputs": [],
   "source": [
    "import queue"
   ]
  },
  {
   "cell_type": "code",
   "execution_count": 76,
   "id": "c3ac1439-e07b-48fb-ad1b-491e3b1b7c3f",
   "metadata": {},
   "outputs": [],
   "source": [
    "q=queue.Queue()"
   ]
  },
  {
   "cell_type": "code",
   "execution_count": 77,
   "id": "9f8b6863-2b71-40d5-ab77-64a99f871555",
   "metadata": {},
   "outputs": [],
   "source": [
    "q.put(10)"
   ]
  },
  {
   "cell_type": "code",
   "execution_count": 78,
   "id": "10dcb0a1-cf09-42f7-8d4b-d17f99c61286",
   "metadata": {},
   "outputs": [],
   "source": [
    "q.put(20)"
   ]
  },
  {
   "cell_type": "code",
   "execution_count": 79,
   "id": "b6c18bc0-1442-4aea-bea3-3129e6d4beeb",
   "metadata": {},
   "outputs": [],
   "source": [
    "q.put(30)"
   ]
  },
  {
   "cell_type": "code",
   "execution_count": 80,
   "id": "72093acf-9680-401f-a75c-b4b5ba76068a",
   "metadata": {},
   "outputs": [
    {
     "data": {
      "text/plain": [
       "<queue.Queue at 0x22529d8d850>"
      ]
     },
     "execution_count": 80,
     "metadata": {},
     "output_type": "execute_result"
    }
   ],
   "source": [
    "q"
   ]
  },
  {
   "cell_type": "code",
   "execution_count": 81,
   "id": "7ab52613-c990-4aa6-ac9b-ce4d7284bdf7",
   "metadata": {},
   "outputs": [
    {
     "data": {
      "text/plain": [
       "10"
      ]
     },
     "execution_count": 81,
     "metadata": {},
     "output_type": "execute_result"
    }
   ],
   "source": [
    "q.get()"
   ]
  },
  {
   "cell_type": "code",
   "execution_count": 82,
   "id": "ddab3c0a-2274-49ba-8ab3-caec3c21256b",
   "metadata": {},
   "outputs": [
    {
     "data": {
      "text/plain": [
       "20"
      ]
     },
     "execution_count": 82,
     "metadata": {},
     "output_type": "execute_result"
    }
   ],
   "source": [
    "q.get()"
   ]
  },
  {
   "cell_type": "code",
   "execution_count": 83,
   "id": "204a47a5-70ad-44b9-9f7f-396e65cc02ac",
   "metadata": {},
   "outputs": [
    {
     "data": {
      "text/plain": [
       "30"
      ]
     },
     "execution_count": 83,
     "metadata": {},
     "output_type": "execute_result"
    }
   ],
   "source": [
    "q.get()"
   ]
  },
  {
   "cell_type": "code",
   "execution_count": null,
   "id": "4aa17b18-97d3-4966-ae9d-2d5726c539db",
   "metadata": {},
   "outputs": [],
   "source": [
    "q.get()"
   ]
  },
  {
   "cell_type": "code",
   "execution_count": null,
   "id": "12d56288-1d5f-4e34-a3d5-ad87da54434b",
   "metadata": {},
   "outputs": [],
   "source": []
  }
 ],
 "metadata": {
  "kernelspec": {
   "display_name": "Python 3 (ipykernel)",
   "language": "python",
   "name": "python3"
  },
  "language_info": {
   "codemirror_mode": {
    "name": "ipython",
    "version": 3
   },
   "file_extension": ".py",
   "mimetype": "text/x-python",
   "name": "python",
   "nbconvert_exporter": "python",
   "pygments_lexer": "ipython3",
   "version": "3.9.7"
  }
 },
 "nbformat": 4,
 "nbformat_minor": 5
}
