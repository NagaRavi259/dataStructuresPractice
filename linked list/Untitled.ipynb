{
 "cells": [
  {
   "cell_type": "raw",
   "id": "33d9c164",
   "metadata": {},
   "source": [
    "create nodes\n",
    "create linked list\n",
    "add nodes to linked ist\n",
    "print linked list"
   ]
  },
  {
   "cell_type": "code",
   "execution_count": 3,
   "id": "b61e2973",
   "metadata": {},
   "outputs": [],
   "source": [
    "class Node:\n",
    "    def __init__(self, data):\n",
    "        self.data=data\n",
    "        self.next=None"
   ]
  },
  {
   "cell_type": "code",
   "execution_count": 4,
   "id": "3ae37e7e",
   "metadata": {},
   "outputs": [],
   "source": [
    "class Linked_list:\n",
    "    def __init__(self):\n",
    "        self.head = None\n",
    "        \n",
    "    def insert(self, newNode):\n",
    "        if self.head is None:\n",
    "            self.head=newNode\n",
    "        else:\n",
    "            #self.head.next=newNode\n",
    "            lastNode=self.head\n",
    "            while True:\n",
    "                if lastNode.next is None:\n",
    "                    break\n",
    "                lastNode = lastNode.next\n",
    "            lastNode.next = newNode\n",
    "        \n",
    "    def printList(self):\n",
    "        if self.head is None:\n",
    "            print(\"list is empty\")\n",
    "            return\n",
    "        currentNode=self.head\n",
    "        while True:\n",
    "            if currentNode is None: \n",
    "                break\n",
    "            print(currentNode.data,\"--> \",end=\"\")\n",
    "            currentNode = currentNode.next"
   ]
  },
  {
   "cell_type": "code",
   "execution_count": 5,
   "id": "44312428",
   "metadata": {},
   "outputs": [
    {
     "name": "stdout",
     "output_type": "stream",
     "text": [
      "jhon --> ben --> Matthew --> "
     ]
    }
   ],
   "source": [
    "firstNode =Node(\"jhon\")\n",
    "linkedList=Linked_list()\n",
    "linkedList.insert(firstNode)\n",
    "secondNode =Node(\"ben\")\n",
    "linkedList.insert(secondNode)\n",
    "thirdNode=Node(\"Matthew\")\n",
    "linkedList.insert(thirdNode)\n",
    "linkedList.printList()"
   ]
  },
  {
   "cell_type": "code",
   "execution_count": null,
   "id": "c948e907",
   "metadata": {},
   "outputs": [],
   "source": [
    "thirdNode=Node(\"Matthew\")"
   ]
  }
 ],
 "metadata": {
  "kernelspec": {
   "display_name": "Python 3 (ipykernel)",
   "language": "python",
   "name": "python3"
  },
  "language_info": {
   "codemirror_mode": {
    "name": "ipython",
    "version": 3
   },
   "file_extension": ".py",
   "mimetype": "text/x-python",
   "name": "python",
   "nbconvert_exporter": "python",
   "pygments_lexer": "ipython3",
   "version": "3.9.7"
  }
 },
 "nbformat": 4,
 "nbformat_minor": 5
}
